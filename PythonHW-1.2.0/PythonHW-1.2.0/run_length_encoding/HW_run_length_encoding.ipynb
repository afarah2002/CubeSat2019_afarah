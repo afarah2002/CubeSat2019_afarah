{
 "cells": [
  {
   "cell_type": "markdown",
   "metadata": {},
   "source": [
    "# Run-Length Encoding\n",
    "Run-length encoding is a simple method for compressing data that contains long sequences of repeated characters. \n",
    "\n",
    "In this compression algorithm:\n",
    "1. A standalone character will be unchanged. E.g `\"a\"` $\\rightarrow$ `[\"a\"]`. \n",
    "2. A run of a character, `c`, repeated `N` times will be compressed to `[\"c\", \"c\", N]`. E.g. `\"bbbb\"` $\\rightarrow$ `['b', 'b', 4]`. \n",
    "\n",
    "These two rules are all that you need to perform run-length encoding.\n",
    "\n",
    "Let's look at a few examples of run-length-encoding:\n",
    "\n",
    "- `\"abcd\"` $\\rightarrow$ `['a', 'b', 'c', 'd']`\n",
    "- `\"abbbba\"` $\\rightarrow$ `['a', 'b', 'b', 4, 'a']`\n",
    "- `\"aaaabbcccd\"` $\\rightarrow$ `['a', 'a', 4, 'b', 'b', 2, 'c', 'c', 3, 'd']`\n",
    "- `\"\"` $\\rightarrow$ `[]`\n",
    "- `\"1\"` $\\rightarrow$ `[\"1\"]`\n",
    "\n",
    "The decompression algorithm, run-length decoding, simply reverses this process:\n",
    "\n",
    "- `['q', 'a', 'a', 4, 'b', 'b', 2, 'c', 'c', 3, 'd']` $\\rightarrow$ `'qaaaabbcccd'`\n",
    "\n",
    "Here, you will implement a run-length encoding and decoding algorithms. As indicated above, the run-length encoding algorithm should be able to accept a string and return a list with the appropriate string/integer entries, according to the encoding. The decoding algorithm need be able to accept a list with an encoded sequence, and return the decoded string.\n",
    "\n",
    "You should be able to test both of your algorithms by feeding them into one another:\n",
    "```python\n",
    ">>> decoder(encoder(\"Wooooow!!!!! I'm totally getting compressed\"))\n",
    "\"Wooooow!!!!! I'm totally getting compressed\"\n",
    "```"
   ]
  },
  {
   "cell_type": "code",
   "execution_count": 4,
   "metadata": {},
   "outputs": [],
   "source": [
    "def run_length_encoder(in_string):\n",
    "    \n",
    "    keys = []\n",
    "    vals = []\n",
    "    FINAL_LIST = []\n",
    "    in_string = list(in_string)\n",
    "    new_list = []\n",
    "    for x in in_string:\n",
    "        if not x in new_list:\n",
    "            new_list.append(x)\n",
    "    if len(new_list) == 1:\n",
    "        count = len(in_string)\n",
    "        for x in new_list:\n",
    "            keys.append(x)\n",
    "            vals.append(count)\n",
    "    else:\n",
    "        in_string = dict(enumerate(in_string))\n",
    "        for k,v in in_string.items():\n",
    "            if k == 0:\n",
    "                pos = k \n",
    "                if not v == in_string[k+1]:\n",
    "                    count = 1\n",
    "                    keys.append(v)\n",
    "                    vals.append(count)\n",
    "\n",
    "                if v == in_string[k+1]:\n",
    "                    while v == in_string[pos]:\n",
    "                        pos += 1\n",
    "                    count = pos-k\n",
    "                    keys.append(v)\n",
    "                    vals.append(count)\n",
    "\n",
    "\n",
    "            if not k == 0 and not k == len(in_string)-1:\n",
    "                if v == in_string[k-1] and v == in_string[k+1]:\n",
    "                    pass\n",
    "                if not v == in_string[k-1] and v == in_string[k+1]:\n",
    "                    pos = k\n",
    "                    while v == in_string[pos]:\n",
    "                        if pos == len(in_string)-1:\n",
    "                            pos = pos + 1\n",
    "                            break\n",
    "                        pos += 1\n",
    "                    count = pos-k\n",
    "                    keys.append(v)\n",
    "                    vals.append(count)\n",
    "\n",
    "                    if v == in_string[k-1] and not v == in_string[k+1]:\n",
    "                        pass\n",
    "                if not k == len(in_string)-1:\n",
    "                    if not v == in_string[k-1] and not v == in_string[k+1]:\n",
    "                        count = 1\n",
    "                        keys.append(v)\n",
    "                        vals.append(count)\n",
    "\n",
    "\n",
    "            if k == len(in_string)-1:\n",
    "                if not v == in_string[k-1]:\n",
    "                    count = 1\n",
    "                    keys.append(v)\n",
    "                    vals.append(count)\n",
    "\n",
    "\n",
    "    KEYS = dict(enumerate(keys))\n",
    "    VALS = dict(enumerate(vals))\n",
    "    for k,v in KEYS.items():\n",
    "        for K,V in VALS.items():\n",
    "            if k == K:\n",
    "                if V == 1:\n",
    "                    FINAL_LIST.append(v)\n",
    "                if V > 1:\n",
    "                    FINAL_LIST.append(v)\n",
    "                    FINAL_LIST.append(v)\n",
    "                    FINAL_LIST.append(V)\n",
    "    return FINAL_LIST\n",
    "\n",
    "    #####THIS WORKS!!!!!!!!!########\n"
   ]
  },
  {
   "cell_type": "code",
   "execution_count": 5,
   "metadata": {},
   "outputs": [
    {
     "name": "stdout",
     "output_type": "stream",
     "text": [
      "\n",
      "============================== ALL TESTS PASSED! ===============================\n",
      "Your submission code: bw42a5d76dd6ae8182436ab2f9860e8c0feb30dc65224efba85b04727c\n",
      "================================================================================\n",
      "\n"
     ]
    }
   ],
   "source": [
    "# Execute this cell to grade your work\n",
    "from bwsi_grader.python.run_length_encoding import encoder_grader\n",
    "encoder_grader(run_length_encoder)"
   ]
  },
  {
   "cell_type": "code",
   "execution_count": 6,
   "metadata": {},
   "outputs": [],
   "source": [
    "# make sure to execute this cell so that your function is defined\n",
    "# you must re-run this cell any time you make a change to this function\n",
    "\n",
    "def run_length_decoder(in_list):\n",
    "    final = []\n",
    "    for key,val in enumerate(in_list):\n",
    "        if type(val) == int:\n",
    "            letter = in_list[key-1]\n",
    "            combo = letter*(val-2)\n",
    "            final.append(combo)\n",
    "        elif type(val) == str:\n",
    "            norm = in_list[key]\n",
    "            final.append(norm)\n",
    "    string = \"\".join(final)\n",
    "    return string"
   ]
  },
  {
   "cell_type": "code",
   "execution_count": 7,
   "metadata": {},
   "outputs": [
    {
     "name": "stdout",
     "output_type": "stream",
     "text": [
      "\n",
      "============================== ALL TESTS PASSED! ===============================\n",
      "Your submission code: bwdd9e7c7dc76cd758ee821609e7e7ba4b123ff6786f39ab306e3939e7\n",
      "================================================================================\n",
      "\n"
     ]
    }
   ],
   "source": [
    "# Execute this cell to grade your work\n",
    "from bwsi_grader.python.run_length_encoding import decoder_grader\n",
    "decoder_grader(run_length_decoder)"
   ]
  },
  {
   "cell_type": "code",
   "execution_count": null,
   "metadata": {},
   "outputs": [],
   "source": []
  }
 ],
 "metadata": {
  "kernelspec": {
   "display_name": "Python 3",
   "language": "python",
   "name": "python3"
  },
  "language_info": {
   "codemirror_mode": {
    "name": "ipython",
    "version": 3
   },
   "file_extension": ".py",
   "mimetype": "text/x-python",
   "name": "python",
   "nbconvert_exporter": "python",
   "pygments_lexer": "ipython3",
   "version": "3.6.4"
  }
 },
 "nbformat": 4,
 "nbformat_minor": 2
}
